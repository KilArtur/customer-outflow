{
 "cells": [
  {
   "cell_type": "markdown",
   "metadata": {
    "toc": true
   },
   "source": [
    "<h1>Содержание<span class=\"tocSkip\"></span></h1>\n",
    "<div class=\"toc\"><ul class=\"toc-item\"><li><span><a href=\"#Подготовка-данных\" data-toc-modified-id=\"Подготовка-данных-1\"><span class=\"toc-item-num\">1&nbsp;&nbsp;</span>Подготовка данных</a></span></li><li><span><a href=\"#Исследование-задачи\" data-toc-modified-id=\"Исследование-задачи-2\"><span class=\"toc-item-num\">2&nbsp;&nbsp;</span>Исследование задачи</a></span></li><li><span><a href=\"#Борьба-с-дисбалансом\" data-toc-modified-id=\"Борьба-с-дисбалансом-3\"><span class=\"toc-item-num\">3&nbsp;&nbsp;</span>Борьба с дисбалансом</a></span></li><li><span><a href=\"#Тестирование-модели\" data-toc-modified-id=\"Тестирование-модели-4\"><span class=\"toc-item-num\">4&nbsp;&nbsp;</span>Тестирование модели</a></span></li><li><span><a href=\"#Чек-лист-готовности-проекта\" data-toc-modified-id=\"Чек-лист-готовности-проекта-5\"><span class=\"toc-item-num\">5&nbsp;&nbsp;</span>Чек-лист готовности проекта</a></span></li></ul></div>"
   ]
  },
  {
   "cell_type": "markdown",
   "metadata": {},
   "source": [
    "# Отток клиентов"
   ]
  },
  {
   "cell_type": "markdown",
   "metadata": {},
   "source": [
    "Из «Бета-Банка» стали уходить клиенты. Каждый месяц. Немного, но заметно. Банковские маркетологи посчитали: сохранять текущих клиентов дешевле, чем привлекать новых.\n",
    "\n",
    "Нужно спрогнозировать, уйдёт клиент из банка в ближайшее время или нет. В распоряжении имеются данные о поведении клиентов и расторжении договоров с банком.\n",
    "\n",
    "Дополнительно измеряйте *AUC-ROC*, сравнивайте её значение с *F1*-мерой.\n",
    "\n",
    "Источник данных: [https://www.kaggle.com/barelydedicated/bank-customer-churn-modeling](https://www.kaggle.com/barelydedicated/bank-customer-churn-modeling)"
   ]
  },
  {
   "cell_type": "markdown",
   "metadata": {},
   "source": [
    "## Подготовка данных"
   ]
  },
  {
   "cell_type": "markdown",
   "metadata": {},
   "source": [
    "**Подключаем все необходимые библеотеки**"
   ]
  },
  {
   "cell_type": "code",
   "execution_count": 2,
   "metadata": {},
   "outputs": [],
   "source": [
    "import pandas as pd\n",
    "import matplotlib.pyplot as plt\n",
    "from sklearn.model_selection import train_test_split\n",
    "from sklearn.tree import DecisionTreeClassifier, plot_tree\n",
    "from sklearn.metrics import f1_score, roc_curve, roc_auc_score\n",
    "from sklearn.preprocessing import OrdinalEncoder, StandardScaler\n",
    "from sklearn.ensemble import RandomForestClassifier\n",
    "from sklearn.linear_model import LogisticRegression\n",
    "from sklearn.utils import shuffle\n",
    "from math import ceil\n",
    "from sklearn.preprocessing import StandardScaler"
   ]
  },
  {
   "cell_type": "markdown",
   "metadata": {},
   "source": [
    "**Загарузим данные и проверим их**"
   ]
  },
  {
   "cell_type": "code",
   "execution_count": 5,
   "metadata": {},
   "outputs": [
    {
     "data": {
      "text/html": [
       "<div>\n",
       "<style scoped>\n",
       "    .dataframe tbody tr th:only-of-type {\n",
       "        vertical-align: middle;\n",
       "    }\n",
       "\n",
       "    .dataframe tbody tr th {\n",
       "        vertical-align: top;\n",
       "    }\n",
       "\n",
       "    .dataframe thead th {\n",
       "        text-align: right;\n",
       "    }\n",
       "</style>\n",
       "<table border=\"1\" class=\"dataframe\">\n",
       "  <thead>\n",
       "    <tr style=\"text-align: right;\">\n",
       "      <th></th>\n",
       "      <th>RowNumber</th>\n",
       "      <th>CustomerId</th>\n",
       "      <th>Surname</th>\n",
       "      <th>CreditScore</th>\n",
       "      <th>Geography</th>\n",
       "      <th>Gender</th>\n",
       "      <th>Age</th>\n",
       "      <th>Tenure</th>\n",
       "      <th>Balance</th>\n",
       "      <th>NumOfProducts</th>\n",
       "      <th>HasCrCard</th>\n",
       "      <th>IsActiveMember</th>\n",
       "      <th>EstimatedSalary</th>\n",
       "      <th>Exited</th>\n",
       "    </tr>\n",
       "  </thead>\n",
       "  <tbody>\n",
       "    <tr>\n",
       "      <th>0</th>\n",
       "      <td>1</td>\n",
       "      <td>15634602</td>\n",
       "      <td>Hargrave</td>\n",
       "      <td>619</td>\n",
       "      <td>France</td>\n",
       "      <td>Female</td>\n",
       "      <td>42</td>\n",
       "      <td>2.0</td>\n",
       "      <td>0.00</td>\n",
       "      <td>1</td>\n",
       "      <td>1</td>\n",
       "      <td>1</td>\n",
       "      <td>101348.88</td>\n",
       "      <td>1</td>\n",
       "    </tr>\n",
       "    <tr>\n",
       "      <th>1</th>\n",
       "      <td>2</td>\n",
       "      <td>15647311</td>\n",
       "      <td>Hill</td>\n",
       "      <td>608</td>\n",
       "      <td>Spain</td>\n",
       "      <td>Female</td>\n",
       "      <td>41</td>\n",
       "      <td>1.0</td>\n",
       "      <td>83807.86</td>\n",
       "      <td>1</td>\n",
       "      <td>0</td>\n",
       "      <td>1</td>\n",
       "      <td>112542.58</td>\n",
       "      <td>0</td>\n",
       "    </tr>\n",
       "    <tr>\n",
       "      <th>2</th>\n",
       "      <td>3</td>\n",
       "      <td>15619304</td>\n",
       "      <td>Onio</td>\n",
       "      <td>502</td>\n",
       "      <td>France</td>\n",
       "      <td>Female</td>\n",
       "      <td>42</td>\n",
       "      <td>8.0</td>\n",
       "      <td>159660.80</td>\n",
       "      <td>3</td>\n",
       "      <td>1</td>\n",
       "      <td>0</td>\n",
       "      <td>113931.57</td>\n",
       "      <td>1</td>\n",
       "    </tr>\n",
       "    <tr>\n",
       "      <th>3</th>\n",
       "      <td>4</td>\n",
       "      <td>15701354</td>\n",
       "      <td>Boni</td>\n",
       "      <td>699</td>\n",
       "      <td>France</td>\n",
       "      <td>Female</td>\n",
       "      <td>39</td>\n",
       "      <td>1.0</td>\n",
       "      <td>0.00</td>\n",
       "      <td>2</td>\n",
       "      <td>0</td>\n",
       "      <td>0</td>\n",
       "      <td>93826.63</td>\n",
       "      <td>0</td>\n",
       "    </tr>\n",
       "    <tr>\n",
       "      <th>4</th>\n",
       "      <td>5</td>\n",
       "      <td>15737888</td>\n",
       "      <td>Mitchell</td>\n",
       "      <td>850</td>\n",
       "      <td>Spain</td>\n",
       "      <td>Female</td>\n",
       "      <td>43</td>\n",
       "      <td>2.0</td>\n",
       "      <td>125510.82</td>\n",
       "      <td>1</td>\n",
       "      <td>1</td>\n",
       "      <td>1</td>\n",
       "      <td>79084.10</td>\n",
       "      <td>0</td>\n",
       "    </tr>\n",
       "  </tbody>\n",
       "</table>\n",
       "</div>"
      ],
      "text/plain": [
       "   RowNumber  CustomerId   Surname  CreditScore Geography  Gender  Age  \\\n",
       "0          1    15634602  Hargrave          619    France  Female   42   \n",
       "1          2    15647311      Hill          608     Spain  Female   41   \n",
       "2          3    15619304      Onio          502    France  Female   42   \n",
       "3          4    15701354      Boni          699    France  Female   39   \n",
       "4          5    15737888  Mitchell          850     Spain  Female   43   \n",
       "\n",
       "   Tenure    Balance  NumOfProducts  HasCrCard  IsActiveMember  \\\n",
       "0     2.0       0.00              1          1               1   \n",
       "1     1.0   83807.86              1          0               1   \n",
       "2     8.0  159660.80              3          1               0   \n",
       "3     1.0       0.00              2          0               0   \n",
       "4     2.0  125510.82              1          1               1   \n",
       "\n",
       "   EstimatedSalary  Exited  \n",
       "0        101348.88       1  \n",
       "1        112542.58       0  \n",
       "2        113931.57       1  \n",
       "3         93826.63       0  \n",
       "4         79084.10       0  "
      ]
     },
     "execution_count": 5,
     "metadata": {},
     "output_type": "execute_result"
    }
   ],
   "source": [
    "# загрузка данных\n",
    "try:\n",
    "    data = pd.read_csv('/datasets/Churn.csv')\n",
    "except:\n",
    "    data = pd.read_csv(r\"C:\\Users\\kil_a\\OneDrive\\Рабочий стол\\Проекты ЯП\\Банк и уход клиентов\\Уход клиентов.csv\")\n",
    "# выведем первые 5 строк, чтобы убедиться, что данные загружены\n",
    "data.head()"
   ]
  },
  {
   "cell_type": "markdown",
   "metadata": {},
   "source": [
    "**Выведем информацию о данных и изучим пропуски**"
   ]
  },
  {
   "cell_type": "code",
   "execution_count": 6,
   "metadata": {},
   "outputs": [
    {
     "name": "stdout",
     "output_type": "stream",
     "text": [
      "<class 'pandas.core.frame.DataFrame'>\n",
      "RangeIndex: 10000 entries, 0 to 9999\n",
      "Data columns (total 14 columns):\n",
      " #   Column           Non-Null Count  Dtype  \n",
      "---  ------           --------------  -----  \n",
      " 0   RowNumber        10000 non-null  int64  \n",
      " 1   CustomerId       10000 non-null  int64  \n",
      " 2   Surname          10000 non-null  object \n",
      " 3   CreditScore      10000 non-null  int64  \n",
      " 4   Geography        10000 non-null  object \n",
      " 5   Gender           10000 non-null  object \n",
      " 6   Age              10000 non-null  int64  \n",
      " 7   Tenure           9091 non-null   float64\n",
      " 8   Balance          10000 non-null  float64\n",
      " 9   NumOfProducts    10000 non-null  int64  \n",
      " 10  HasCrCard        10000 non-null  int64  \n",
      " 11  IsActiveMember   10000 non-null  int64  \n",
      " 12  EstimatedSalary  10000 non-null  float64\n",
      " 13  Exited           10000 non-null  int64  \n",
      "dtypes: float64(3), int64(8), object(3)\n",
      "memory usage: 1.1+ MB\n"
     ]
    }
   ],
   "source": [
    "# метод info к данным \n",
    "data.info()"
   ]
  },
  {
   "cell_type": "markdown",
   "metadata": {},
   "source": [
    "Для краткого обзора данных построим гистограммы"
   ]
  },
  {
   "cell_type": "code",
   "execution_count": 7,
   "metadata": {},
   "outputs": [
    {
     "data": {
      "image/png": "[encoded data removed]",
      "text/plain": [
       "<Figure size 1000x1500 with 12 Axes>"
      ]
     },
     "metadata": {},
     "output_type": "display_data"
    }
   ],
   "source": [
    "data.hist(figsize = (10, 15));"
   ]
  },
  {
   "cell_type": "markdown",
   "metadata": {},
   "source": [
    "Единственное, что смущает в данных это большое количество пользователей у которых 0 баланс, но, скорей всего, это не является какой-то ошибкой, а вполне реальные данные, ведь человек может использовать карту для каких-то еденичных покупок из-за всевозможных кэшбеков по данной категории"
   ]
  },
  {
   "cell_type": "markdown",
   "metadata": {},
   "source": [
    "*Описание данных*\n",
    "\n",
    "0) RowNumber — индекс строки в данных\n",
    "\n",
    "1) CustomerId — уникальный идентификатор клиента\n",
    "\n",
    "2) Surname — фамилия\n",
    "\n",
    "3) CreditScore — кредитный рейтинг\n",
    "\n",
    "4) Geography — страна проживания\n",
    "\n",
    "5) Gender — пол\n",
    "\n",
    "6) Age — возраст\n",
    "\n",
    "7) Tenure — сколько лет человек является клиентом банка\n",
    "\n",
    "8) Balance — баланс на счёте\n",
    "\n",
    "9) NumOfProducts — количество продуктов банка, используемых клиентом\n",
    "\n",
    "10) HasCrCard — наличие кредитной карты\n",
    "\n",
    "11) IsActiveMember — активность клиента\n",
    "\n",
    "12) EstimatedSalary — предполагаемая зарплата\n"
   ]
  },
  {
   "cell_type": "markdown",
   "metadata": {},
   "source": [
    "*Замечено:*\n",
    "\n",
    "1) колонка 'Tenure' должна иметь целочисленный формат данных"
   ]
  },
  {
   "cell_type": "code",
   "execution_count": 8,
   "metadata": {},
   "outputs": [
    {
     "data": {
      "image/png": "[encoded data removed]",
      "text/plain": [
       "<Figure size 1900x600 with 1 Axes>"
      ]
     },
     "metadata": {},
     "output_type": "display_data"
    }
   ],
   "source": [
    "# напишем функцию, которая показывает наглядно количество пропусков\n",
    "def pass_value_barh(df):\n",
    "    try:\n",
    "        (\n",
    "            (df.isna().sum())\n",
    "            .to_frame()\n",
    "            .rename(columns = {0:'space'})\n",
    "            .query('space > 0')\n",
    "            .sort_values(by = 'space', ascending = True)\n",
    "            .plot(kind = 'barh', figsize = (19,6), rot = -5, legend = False, fontsize = 16)\n",
    "            .set_title('Пример' + \"\\n\", fontsize = 22, color = 'SteelBlue')    \n",
    "        );    \n",
    "    except:\n",
    "        print('пропусков не осталось ')\n",
    "# применим функцию \n",
    "pass_value_barh(data)"
   ]
  },
  {
   "cell_type": "markdown",
   "metadata": {},
   "source": [
    "**Присутствуют пропуски только в колонке Tenure, которая указывает сколько лет человек является клиентом банка**"
   ]
  },
  {
   "cell_type": "code",
   "execution_count": 9,
   "metadata": {},
   "outputs": [
    {
     "name": "stdout",
     "output_type": "stream",
     "text": [
      "2.0 1.0 8.0 7.0 4.0 6.0 3.0 10.0 5.0 9.0 0.0 nan\n"
     ]
    }
   ],
   "source": [
    "# посмотрим все уникальные значения колонки Tenure\n",
    "print(*data['Tenure'].unique())"
   ]
  },
  {
   "cell_type": "markdown",
   "metadata": {},
   "source": [
    "**Колонка содержит только целые числа, поэтому нужно првести колонку к этому типу данных, пропуски в 'Tenure' скорей всего связаны с техническими проблемами, удалять 9% данных не будем, а заменим их медианным значением**"
   ]
  },
  {
   "cell_type": "code",
   "execution_count": 10,
   "metadata": {},
   "outputs": [],
   "source": [
    "data['Tenure'] = data['Tenure'].fillna(data['Tenure'].median()).astype(\"Int64\")"
   ]
  },
  {
   "cell_type": "markdown",
   "metadata": {},
   "source": [
    "**Вывод: обхор данных закончился, необходимо было обработать единственную колонку 'Tenure', все остальные данные в норме и готовы к работе**"
   ]
  },
  {
   "cell_type": "markdown",
   "metadata": {},
   "source": [
    "## Исследование задачи"
   ]
  },
  {
   "cell_type": "markdown",
   "metadata": {},
   "source": [
    "Постановка задачи звучит следующим образом: Нужно спрогнозировать, уйдёт клиент из банка в ближайшее время или нет."
   ]
  },
  {
   "cell_type": "markdown",
   "metadata": {},
   "source": [
    "Для начала исследуем баланс классов"
   ]
  },
  {
   "cell_type": "markdown",
   "metadata": {},
   "source": [
    "Целевым признаком для нашей задачи будет являться колока 'Exited', которая показывает ушел клиент или нет "
   ]
  },
  {
   "cell_type": "code",
   "execution_count": 11,
   "metadata": {},
   "outputs": [
    {
     "name": "stdout",
     "output_type": "stream",
     "text": [
      "Количество ушедших клиентов:  2037\n",
      "Количество клиентов, котороые остались с банком:  7963\n"
     ]
    },
    {
     "data": {
      "image/png": "[encoded data removed]",
      "text/plain": [
       "<Figure size 640x480 with 1 Axes>"
      ]
     },
     "metadata": {},
     "output_type": "display_data"
    }
   ],
   "source": [
    "# исследуем баланс классов\n",
    "data['Exited'].hist();\n",
    "print('Количество ушедших клиентов: ', data['Exited'].sum())\n",
    "print('Количество клиентов, котороые остались с банком: ', len(data[data['Exited'] == 0]))"
   ]
  },
  {
   "cell_type": "markdown",
   "metadata": {},
   "source": [
    "Наблюдается явный дизбаланс классов в целевом признаке, количество ушедших клиентов почти в 4 раза меньше, чем количество клиентов, котороые остались с банком"
   ]
  },
  {
   "cell_type": "markdown",
   "metadata": {},
   "source": [
    "Без сбалансирования класса разберем несколько модель машинного обучения для классификации"
   ]
  },
  {
   "cell_type": "code",
   "execution_count": 12,
   "metadata": {},
   "outputs": [],
   "source": [
    "# перед конвертацией значений уберем колонки, которые не повлияют на предсказания\n",
    "data = data.drop(['RowNumber', 'CustomerId', 'Surname'], axis = 1)"
   ]
  },
  {
   "cell_type": "code",
   "execution_count": 13,
   "metadata": {},
   "outputs": [
    {
     "name": "stdout",
     "output_type": "stream",
     "text": [
      "<class 'pandas.core.frame.DataFrame'>\n",
      "RangeIndex: 10000 entries, 0 to 9999\n",
      "Data columns (total 11 columns):\n",
      " #   Column           Non-Null Count  Dtype  \n",
      "---  ------           --------------  -----  \n",
      " 0   CreditScore      10000 non-null  int64  \n",
      " 1   Geography        10000 non-null  object \n",
      " 2   Gender           10000 non-null  object \n",
      " 3   Age              10000 non-null  int64  \n",
      " 4   Tenure           10000 non-null  Int64  \n",
      " 5   Balance          10000 non-null  float64\n",
      " 6   NumOfProducts    10000 non-null  int64  \n",
      " 7   HasCrCard        10000 non-null  int64  \n",
      " 8   IsActiveMember   10000 non-null  int64  \n",
      " 9   EstimatedSalary  10000 non-null  float64\n",
      " 10  Exited           10000 non-null  int64  \n",
      "dtypes: Int64(1), float64(2), int64(6), object(2)\n",
      "memory usage: 869.3+ KB\n"
     ]
    }
   ],
   "source": [
    "data.info()"
   ]
  },
  {
   "cell_type": "code",
   "execution_count": 14,
   "metadata": {},
   "outputs": [
    {
     "name": "stdout",
     "output_type": "stream",
     "text": [
      "Обучающая выборка -> (6000, 11)\n",
      "Тестовая выборка -> (2000, 11)\n",
      "Валидационной выборка -> (2000, 11)\n"
     ]
    }
   ],
   "source": [
    "# разабьем данные на 3 выборки: test, valid, train\n",
    "data = pd.get_dummies(data, drop_first = True)\n",
    "# уберем из features колонки, которые никак не смогут повлиять на предсказания: RowNumber, CustomerId, Surname\n",
    "features = data.drop(['Exited'], axis = 1)\n",
    "target = data['Exited']\n",
    "# разделим target и features на обучающую выборку и валидационную\n",
    "features_train, features_valid, target_train, target_valid = train_test_split(\n",
    "    features, target, test_size = 0.2, random_state = 12345)\n",
    "# теперь разделим обучающую выборку на обучающую и тестовую \n",
    "features_test, features_train, target_test, target_train = train_test_split(\n",
    "    features_train, target_train, test_size = 0.75, random_state = 12345 \n",
    ")\n",
    "# масшатабируем данные\n",
    "scaler = StandardScaler()\n",
    "scaler.fit(features_train)\n",
    "features_train = scaler.transform(features_train)\n",
    "features_test = scaler.transform(features_test)\n",
    "features_valid = scaler.transform(features_valid)\n",
    "# посмотрим размеры каждой выборки\n",
    "print(f'Обучающая выборка -> {features_train.shape}')\n",
    "print(f'Тестовая выборка -> {features_test.shape}')\n",
    "print(f'Валидационной выборка -> {features_valid.shape}')"
   ]
  },
  {
   "cell_type": "markdown",
   "metadata": {},
   "source": [
    "Данные разделены верно, в соотношении 3:1:1"
   ]
  },
  {
   "cell_type": "markdown",
   "metadata": {},
   "source": [
    "Для задачи классификации нужно будет рассмотреть 3 модели машинного обучения:\n",
    "\n",
    "1) модели дерева решений для классификации\n",
    "\n",
    "2) модели случайного леса для классификации\n",
    "\n",
    "3) модели логистической регрессии регрессии"
   ]
  },
  {
   "cell_type": "markdown",
   "metadata": {},
   "source": [
    "**Инициализация модели дерева решений для классификации**"
   ]
  },
  {
   "cell_type": "code",
   "execution_count": 15,
   "metadata": {},
   "outputs": [
    {
     "data": {
      "image/png": "[encoded data removed]",
      "text/plain": [
       "<Figure size 640x480 with 1 Axes>"
      ]
     },
     "metadata": {},
     "output_type": "display_data"
    },
    {
     "name": "stdout",
     "output_type": "stream",
     "text": [
      "Метрика AUC-ROC: 0.8334720421158573\n",
      "Модели дерева решений для классификации имеет следующие гиперпараметры: entropy, max_depth = 5, min_samples_split = 2\n",
      "Значение F1 меры для этой модели -> 0.5767045454545454\n"
     ]
    }
   ],
   "source": [
    "best_cri = ''\n",
    "all_cri = ['gini', 'entropy']\n",
    "all_spli = ['best', 'random']\n",
    "best_score_clas = best_depth = best_samples_split = 0\n",
    "for cri in all_cri:\n",
    "    for depth in range(1, 11):\n",
    "        for samples_split in range(2, 7):\n",
    "            model = DecisionTreeClassifier(\n",
    "                criterion = cri, \n",
    "                max_depth = depth,\n",
    "                min_samples_split = samples_split,\n",
    "                random_state = 12345\n",
    "            )\n",
    "            model.fit(features_train, target_train)\n",
    "            predictions = model.predict(features_valid)\n",
    "            score = f1_score(target_valid, predictions)\n",
    "            if score > best_score_clas:\n",
    "                best_model_clas = model\n",
    "                best_score_clas = score\n",
    "                best_cri = cri\n",
    "                best_depth = depth\n",
    "                best_samples_split = samples_split\n",
    "probabilities_valid = best_model_clas.predict_proba(features_valid)\n",
    "probabilities_one_valid = probabilities_valid[:, 1]\n",
    "fpr, tpr, thresholds = roc_curve(target_valid, probabilities_one_valid)\n",
    "plt.figure()\n",
    "plt.plot(fpr, tpr)\n",
    "plt.plot([0, 1], [0, 1], linestyle = '--')\n",
    "plt.xlim([0.0, 1.0])\n",
    "plt.ylim([0.0, 1.0])\n",
    "plt.title('ROC - кривая')\n",
    "plt.show()\n",
    "auc_roc = roc_auc_score(target_valid, probabilities_one_valid)\n",
    "print(f'Метрика AUC-ROC: {auc_roc}')\n",
    "print(f'Модели дерева решений для классификации имеет следующие гиперпараметры: {best_cri}, max_depth = {best_depth}, min_samples_split = {best_samples_split}')\n",
    "print(f'Значение F1 меры для этой модели -> {best_score_clas}')"
   ]
  },
  {
   "cell_type": "markdown",
   "metadata": {},
   "source": [
    "**Инициализация модели случайного леса для классификации**"
   ]
  },
  {
   "cell_type": "code",
   "execution_count": 63,
   "metadata": {},
   "outputs": [],
   "source": [
    "pd.options.mode.chained_assignment = None"
   ]
  },
  {
   "cell_type": "code",
   "execution_count": 64,
   "metadata": {},
   "outputs": [
    {
     "data": {
      "image/png": "[encoded data removed]",
      "text/plain": [
       "<Figure size 432x288 with 1 Axes>"
      ]
     },
     "metadata": {
      "needs_background": "light"
     },
     "output_type": "display_data"
    },
    {
     "name": "stdout",
     "output_type": "stream",
     "text": [
      "Метрика AUC-ROC: 0.8146205508351558\n",
      "Модель случайного леса для классификации имеет следующие гиперпараметры: leaf_nodes = 8, max_depth = 5, features = None, est =  4\n",
      "Значение F1 меры для этой модели -> 0.5592972181551977\n"
     ]
    }
   ],
   "source": [
    "best_score_forest = best_depth = best_est = best_leaf_nodes = best_score_forest = 0\n",
    "array_features = ['sqrt', 'log2', None]\n",
    "best_features = ''\n",
    "for est in range(1, 17, 1):\n",
    "    for depth in range(1, 17):\n",
    "        for features in array_features:\n",
    "            for leaf_nodes in range(3, 9):\n",
    "                # инициализируем модель с параметрами\n",
    "                model = RandomForestClassifier(\n",
    "                    max_depth = depth, n_estimators = est, \n",
    "                    random_state = 12345, max_features = features, \n",
    "                    max_leaf_nodes = leaf_nodes\n",
    "                )\n",
    "                # обучим модель на тренировочной выборке\n",
    "                model.fit(features_train, target_train)\n",
    "                # получим предсказание модели на валидационной выборке\n",
    "                predictions = model.predict(features_valid)\n",
    "                # посчитаем значение rmse на валидационной выборке\n",
    "                score = f1_score(target_valid, predictions)\n",
    "                if score > best_score_forest:\n",
    "                    best_model_forest = model\n",
    "                    best_score_forest = score\n",
    "                    best_est = est\n",
    "                    best_depth = depth \n",
    "                    best_features = features\n",
    "                    best_leaf_nodes = leaf_nodes\n",
    "probabilities_valid = best_model_forest.predict_proba(features_valid)\n",
    "probabilities_one_valid = probabilities_valid[:, 1]\n",
    "fpr, tpr, thresholds = roc_curve(target_valid, probabilities_one_valid)\n",
    "plt.figure()\n",
    "plt.plot(fpr, tpr)\n",
    "plt.plot([0, 1], [0, 1], linestyle = '--')\n",
    "plt.xlim([0.0, 1.0])\n",
    "plt.ylim([0.0, 1.0])\n",
    "plt.title('ROC - кривая')\n",
    "plt.show()\n",
    "auc_roc = roc_auc_score(target_valid, probabilities_one_valid)\n",
    "print(f'Метрика AUC-ROC: {auc_roc}')\n",
    "print(f'Модель случайного леса для классификации имеет следующие гиперпараметры: leaf_nodes = {best_leaf_nodes}, max_depth = {best_depth}, features = {best_features}, est =  {best_est}')\n",
    "print(f'Значение F1 меры для этой модели -> {best_score_forest}')"
   ]
  },
  {
   "cell_type": "markdown",
   "metadata": {},
   "source": [
    "**Инициализация модели логистичекой регрессии**"
   ]
  },
  {
   "cell_type": "code",
   "execution_count": 16,
   "metadata": {},
   "outputs": [
    {
     "data": {
      "image/png": "[encoded data removed]",
      "text/plain": [
       "<Figure size 640x480 with 1 Axes>"
      ]
     },
     "metadata": {},
     "output_type": "display_data"
    },
    {
     "name": "stdout",
     "output_type": "stream",
     "text": [
      "Метрика AUC-ROC: 0.7587568913947453\n",
      "Значение F1 меры для этой модели ->: 0.5084269662921348\n"
     ]
    }
   ],
   "source": [
    "# инициализируем модель\n",
    "model_linear = LogisticRegression(C = 0.01, solver = 'liblinear' )\n",
    "# обучим модель на тренировочной выборке\n",
    "model_linear.fit(features_train, target_train)\n",
    "# получим предсказание модели на валидационной выборке\n",
    "predictions = model.predict(features_valid)\n",
    "# посчитаем значение rmse на валидационной выборке\n",
    "score = f1_score(target_valid, predictions)\n",
    "probabilities_valid = model_linear.predict_proba(features_valid)\n",
    "probabilities_one_valid = probabilities_valid[:, 1]\n",
    "fpr, tpr, thresholds = roc_curve(target_valid, probabilities_one_valid)\n",
    "plt.figure()\n",
    "plt.plot(fpr, tpr)\n",
    "plt.plot([0, 1], [0, 1], linestyle = '--')\n",
    "plt.xlim([0.0, 1.0])\n",
    "plt.ylim([0.0, 1.0])\n",
    "plt.title('ROC - кривая')\n",
    "plt.show()\n",
    "auc_roc = roc_auc_score(target_valid, probabilities_one_valid)\n",
    "print(f'Метрика AUC-ROC: {auc_roc}')\n",
    "print(f'Значение F1 меры для этой модели ->: {score}')"
   ]
  },
  {
   "cell_type": "markdown",
   "metadata": {},
   "source": [
    "**Вывод: Без сбалансирования классов в целевом признаке наилучшее значение F1 меры показала модель дерева решений для классификации, которая имеет следующие гиперпараметры: entropy, max_depth = 5, min_samples_split = 2. Значение F1 меры для этой модели: 0.5767045454545454. Метрика AUC-ROC для этой модели: 0.8334720421158573**"
   ]
  },
  {
   "cell_type": "markdown",
   "metadata": {},
   "source": [
    "## Борьба с дисбалансом"
   ]
  },
  {
   "cell_type": "markdown",
   "metadata": {},
   "source": [
    "Для того, чтобы искоренить дизбаланс классов можно воспользоваться методом увелечения выборки или же обучить модели со взвешиванием классов"
   ]
  },
  {
   "cell_type": "markdown",
   "metadata": {},
   "source": [
    "Воспользуемся увелечением выборки и проверим метрики на наилучшей по показателям модели"
   ]
  },
  {
   "cell_type": "code",
   "execution_count": 17,
   "metadata": {},
   "outputs": [
    {
     "data": {
      "image/png": "[encoded data removed]",
      "text/plain": [
       "<Figure size 640x480 with 1 Axes>"
      ]
     },
     "metadata": {},
     "output_type": "display_data"
    }
   ],
   "source": [
    "def upsample(features, target, repeat): \n",
    "    features_zeros = pd.DataFrame(features[target == 0])\n",
    "    features_ones = pd.DataFrame(features[target == 1]) \n",
    "    target_zeros = target[target == 0] \n",
    "    target_ones = target[target == 1] \n",
    "    features_upsampled = pd.concat([features_zeros] + [features_ones] * repeat) \n",
    "    target_upsampled = pd.concat([target_zeros] + [target_ones] * repeat) \n",
    "    features_upsampled, target_upsampled = shuffle( features_upsampled, target_upsampled, random_state=12345) \n",
    "    return features_upsampled, target_upsampled\n",
    "rep = ceil(len(data[data['Exited'] == 0]) / data['Exited'].sum())\n",
    "features_train_up, target_train_up = upsample(features_train, target_train, rep)\n",
    "target_train_up.hist();"
   ]
  },
  {
   "cell_type": "markdown",
   "metadata": {},
   "source": [
    "Данные сбалансированы, теперь на сбалансированных данных можно преобучить модкли и посмотрить метрики классификации"
   ]
  },
  {
   "cell_type": "markdown",
   "metadata": {},
   "source": [
    "**Инициализация модели дерева решений для классификации с балансированными данными**"
   ]
  },
  {
   "cell_type": "code",
   "execution_count": 18,
   "metadata": {},
   "outputs": [
    {
     "data": {
      "image/png": "[encoded data removed]",
      "text/plain": [
       "<Figure size 640x480 with 1 Axes>"
      ]
     },
     "metadata": {},
     "output_type": "display_data"
    },
    {
     "name": "stdout",
     "output_type": "stream",
     "text": [
      "Метрика AUC-ROC: 0.8249291691914642\n",
      "Модели дерева решений для классификации имеет следующие гиперпараметры: entropy, max_depth = 8, min_samples_split = 17\n",
      "Значение F1 меры для этой модели -> 0.6043737574552684\n"
     ]
    }
   ],
   "source": [
    "best_cri_up = ''\n",
    "all_cri = ['gini', 'entropy']\n",
    "all_spli = ['best', 'random']\n",
    "best_score_clas_up = 0\n",
    "for cri in all_cri:\n",
    "    for depth in range(1, 11):\n",
    "        for samples_split in range(2, 20):\n",
    "            model = DecisionTreeClassifier(\n",
    "                criterion = cri, \n",
    "                max_depth = depth,\n",
    "                min_samples_split = samples_split,\n",
    "                random_state = 12345\n",
    "            )\n",
    "            model.fit(features_train_up, target_train_up)\n",
    "            predictions = model.predict(features_valid)\n",
    "            score = f1_score(target_valid, predictions)\n",
    "            if score > best_score_clas_up:\n",
    "                best_model_clas_up = model\n",
    "                best_score_clas_up = score\n",
    "                best_cri_up = cri\n",
    "                best_depth_up = depth\n",
    "                best_samples_split_up = samples_split\n",
    "probabilities_valid = best_model_clas_up.predict_proba(features_valid)\n",
    "probabilities_one_valid = probabilities_valid[:, 1]\n",
    "fpr, tpr, thresholds = roc_curve(target_valid, probabilities_one_valid)\n",
    "plt.figure()\n",
    "plt.plot(fpr, tpr)\n",
    "plt.plot([0, 1], [0, 1], linestyle = '--')\n",
    "plt.xlim([0.0, 1.0])\n",
    "plt.ylim([0.0, 1.0])\n",
    "plt.title('ROC - кривая')\n",
    "plt.show()\n",
    "auc_roc = roc_auc_score(target_valid, probabilities_one_valid)\n",
    "print(f'Метрика AUC-ROC: {auc_roc}')\n",
    "print(f'Модели дерева решений для классификации имеет следующие гиперпараметры: {best_cri_up}, max_depth = {best_depth_up}, min_samples_split = {best_samples_split_up}')\n",
    "print(f'Значение F1 меры для этой модели -> {best_score_clas_up}')"
   ]
  },
  {
   "cell_type": "markdown",
   "metadata": {},
   "source": [
    "**Инициализация модели случайного леса для классификации с балансированными данными**"
   ]
  },
  {
   "cell_type": "code",
   "execution_count": 68,
   "metadata": {},
   "outputs": [
    {
     "data": {
      "image/png": "[encoded data removed]",
      "text/plain": [
       "<Figure size 432x288 with 1 Axes>"
      ]
     },
     "metadata": {
      "needs_background": "light"
     },
     "output_type": "display_data"
    },
    {
     "name": "stdout",
     "output_type": "stream",
     "text": [
      "Метрика AUC-ROC: 0.8421965515855233\n",
      "Модель случайного леса для классификации имеет следующие гиперпараметры: leaf_nodes = 8, max_depth = 16, features = None, est =  16\n",
      "Значение F1 меры для этой модели -> 0.5979186376537371\n"
     ]
    }
   ],
   "source": [
    "best_depth = best_est = best_leaf_nodes = best_score_forest = 0\n",
    "array_features = ['sqrt', 'log2', None]\n",
    "best_features = ''\n",
    "for est in range(1, 17, 1):\n",
    "    for depth in range(1, 17):\n",
    "        for features in array_features:\n",
    "            for leaf_nodes in range(3, 9):\n",
    "                # инициализируем модель с параметрами\n",
    "                model = RandomForestClassifier(\n",
    "                    max_depth = depth, n_estimators = est, \n",
    "                    random_state = 12345, max_features = features, \n",
    "                    max_leaf_nodes = leaf_nodes\n",
    "                )\n",
    "                # обучим модель на тренировочной выборке\n",
    "                model.fit(features_train_up, target_train_up)\n",
    "                # получим предсказание модели на валидационной выборке\n",
    "                predictions = model.predict(features_valid)\n",
    "                # посчитаем значение rmse на валидационной выборке\n",
    "                score = f1_score(target_valid, predictions)\n",
    "                if score > best_score_forest:\n",
    "                    best_model_forest_up = model\n",
    "                    best_score_forest_up = score\n",
    "                    best_est = est\n",
    "                    best_depth = depth \n",
    "                    best_features = features\n",
    "                    best_leaf_nodes = leaf_nodes\n",
    "probabilities_valid = best_model_forest_up.predict_proba(features_valid)\n",
    "probabilities_one_valid = probabilities_valid[:, 1]\n",
    "fpr, tpr, thresholds = roc_curve(target_valid, probabilities_one_valid)\n",
    "plt.figure()\n",
    "plt.plot(fpr, tpr)\n",
    "plt.plot([0, 1], [0, 1], linestyle = '--')\n",
    "plt.xlim([0.0, 1.0])\n",
    "plt.ylim([0.0, 1.0])\n",
    "plt.title('ROC - кривая')\n",
    "plt.show()\n",
    "auc_roc = roc_auc_score(target_valid, probabilities_one_valid)\n",
    "print(f'Метрика AUC-ROC: {auc_roc}')\n",
    "print(f'Модель случайного леса для классификации имеет следующие гиперпараметры: leaf_nodes = {best_leaf_nodes}, max_depth = {best_depth}, features = {best_features}, est =  {best_est}')\n",
    "print(f'Значение F1 меры для этой модели -> {best_score_forest_up}')"
   ]
  },
  {
   "cell_type": "markdown",
   "metadata": {},
   "source": [
    "**Инициализация модели логистичекой регрессии с балансированнми данными**"
   ]
  },
  {
   "cell_type": "code",
   "execution_count": 19,
   "metadata": {},
   "outputs": [
    {
     "data": {
      "image/png": "[encoded data removed]",
      "text/plain": [
       "<Figure size 640x480 with 1 Axes>"
      ]
     },
     "metadata": {},
     "output_type": "display_data"
    },
    {
     "name": "stdout",
     "output_type": "stream",
     "text": [
      "Метрика AUC-ROC: 0.7626114570972992\n",
      "Значение F1 меры для этой модели ->: 0.5602240896358543\n"
     ]
    }
   ],
   "source": [
    "# инициализируем модель\n",
    "model_linear = LogisticRegression(C = 0.01, solver = 'liblinear' )\n",
    "# обучим модель на тренировочной выборке\n",
    "model_linear.fit(features_train_up, target_train_up)\n",
    "# получим предсказание модели на валидационной выборке\n",
    "predictions = model.predict(features_valid)\n",
    "# посчитаем значение rmse на валидационной выборке\n",
    "score = f1_score(target_valid, predictions)\n",
    "probabilities_valid = model_linear.predict_proba(features_valid)\n",
    "probabilities_one_valid = probabilities_valid[:, 1]\n",
    "fpr, tpr, thresholds = roc_curve(target_valid, probabilities_one_valid)\n",
    "plt.figure()\n",
    "plt.plot(fpr, tpr)\n",
    "plt.plot([0, 1], [0, 1], linestyle = '--')\n",
    "plt.xlim([0.0, 1.0])\n",
    "plt.ylim([0.0, 1.0])\n",
    "plt.title('ROC - кривая')\n",
    "plt.show()\n",
    "auc_roc = roc_auc_score(target_valid, probabilities_one_valid)\n",
    "print(f'Метрика AUC-ROC: {auc_roc}')\n",
    "print(f'Значение F1 меры для этой модели ->: {score}')"
   ]
  },
  {
   "cell_type": "markdown",
   "metadata": {},
   "source": [
    "Обученим модели со взвешиванием классов выборки и проверим метрики на наилучшей по показателям модели"
   ]
  },
  {
   "cell_type": "markdown",
   "metadata": {},
   "source": [
    "**Инициализация модели дерева решений для классификации со взвешиванием классов выборки**"
   ]
  },
  {
   "cell_type": "code",
   "execution_count": 20,
   "metadata": {},
   "outputs": [
    {
     "data": {
      "image/png": "[encoded data removed]",
      "text/plain": [
       "<Figure size 640x480 with 1 Axes>"
      ]
     },
     "metadata": {},
     "output_type": "display_data"
    },
    {
     "name": "stdout",
     "output_type": "stream",
     "text": [
      "Метрика AUC-ROC: 0.8279686036765023\n",
      "Модели дерева решений для классификации имеет следующие гиперпараметры: entropy, max_depth = 8, min_samples_split = 21\n",
      "Значение F1 меры для этой модели -> 0.6037364798426745\n"
     ]
    }
   ],
   "source": [
    "best_cri_up = ''\n",
    "all_cri = ['gini', 'entropy']\n",
    "all_spli = ['best', 'random']\n",
    "best_score_clas_up = 0\n",
    "for cri in all_cri:\n",
    "    for depth in range(1, 15):\n",
    "        for samples_split in range(2, 27):\n",
    "            model = DecisionTreeClassifier(\n",
    "                criterion = cri, \n",
    "                max_depth = depth,\n",
    "                min_samples_split = samples_split,\n",
    "                class_weight = 'balanced', \n",
    "                random_state = 12345\n",
    "            )\n",
    "            model.fit(features_train, target_train)\n",
    "            predictions = model.predict(features_valid)\n",
    "            score = f1_score(target_valid, predictions)\n",
    "            if score > best_score_clas_up:\n",
    "                best_model_clas_up = model\n",
    "                best_score_clas_up = score\n",
    "                best_cri_up = cri\n",
    "                best_depth_up = depth\n",
    "                best_samples_split_up = samples_split\n",
    "probabilities_valid = best_model_clas_up.predict_proba(features_valid)\n",
    "probabilities_one_valid = probabilities_valid[:, 1]\n",
    "fpr, tpr, thresholds = roc_curve(target_valid, probabilities_one_valid)\n",
    "plt.figure()\n",
    "plt.plot(fpr, tpr)\n",
    "plt.plot([0, 1], [0, 1], linestyle = '--')\n",
    "plt.xlim([0.0, 1.0])\n",
    "plt.ylim([0.0, 1.0])\n",
    "plt.title('ROC - кривая')\n",
    "plt.show()\n",
    "auc_roc = roc_auc_score(target_valid, probabilities_one_valid)\n",
    "print(f'Метрика AUC-ROC: {auc_roc}')\n",
    "print(f'Модели дерева решений для классификации имеет следующие гиперпараметры: {best_cri_up}, max_depth = {best_depth_up}, min_samples_split = {best_samples_split_up}')\n",
    "print(f'Значение F1 меры для этой модели -> {best_score_clas_up}')"
   ]
  },
  {
   "cell_type": "markdown",
   "metadata": {},
   "source": [
    "**Инициализация модели случайного леса для классификации со взвешиванием классов выборки**"
   ]
  },
  {
   "cell_type": "code",
   "execution_count": 71,
   "metadata": {},
   "outputs": [
    {
     "data": {
      "image/png": "[encoded data removed]",
      "text/plain": [
       "<Figure size 432x288 with 1 Axes>"
      ]
     },
     "metadata": {
      "needs_background": "light"
     },
     "output_type": "display_data"
    },
    {
     "name": "stdout",
     "output_type": "stream",
     "text": [
      "Метрика AUC-ROC: 0.8314316086298204\n",
      "Модель случайного леса для классификации имеет следующие гиперпараметры: leaf_nodes = 8, max_depth = 16, features = None, est =  16\n",
      "Значение F1 меры для этой модели -> 0.591123701605288\n"
     ]
    }
   ],
   "source": [
    "best_depth = best_est = best_leaf_nodes = best_score_forest = 0\n",
    "array_features = ['sqrt', 'log2', None]\n",
    "best_features = ''\n",
    "for est in range(1, 17, 1):\n",
    "    for depth in range(1, 17):\n",
    "        for features in array_features:\n",
    "            for leaf_nodes in range(3, 9):\n",
    "                # инициализируем модель с параметрами\n",
    "                model = RandomForestClassifier(\n",
    "                    max_depth = depth, \n",
    "                    n_estimators = est, \n",
    "                    max_features = features, \n",
    "                    class_weight = 'balanced',\n",
    "                    max_leaf_nodes = leaf_nodes,\n",
    "                    random_state = 12345,\n",
    "                )\n",
    "                # обучим модель на тренировочной выборке\n",
    "                model.fit(features_train, target_train)\n",
    "                # получим предсказание модели на валидационной выборке\n",
    "                predictions = model.predict(features_valid)\n",
    "                # посчитаем значение rmse на валидационной выборке\n",
    "                score = f1_score(target_valid, predictions)\n",
    "                if score > best_score_forest:\n",
    "                    best_model_forest_up = model\n",
    "                    best_score_forest_up = score\n",
    "                    best_est = est\n",
    "                    best_depth = depth \n",
    "                    best_features = features\n",
    "                    best_leaf_nodes = leaf_nodes\n",
    "probabilities_valid = best_model_forest_up.predict_proba(features_valid)\n",
    "probabilities_one_valid = probabilities_valid[:, 1]\n",
    "fpr, tpr, thresholds = roc_curve(target_valid, probabilities_one_valid)\n",
    "plt.figure()\n",
    "plt.plot(fpr, tpr)\n",
    "plt.plot([0, 1], [0, 1], linestyle = '--')\n",
    "plt.xlim([0.0, 1.0])\n",
    "plt.ylim([0.0, 1.0])\n",
    "plt.title('ROC - кривая')\n",
    "plt.show()\n",
    "auc_roc = roc_auc_score(target_valid, probabilities_one_valid)\n",
    "print(f'Метрика AUC-ROC: {auc_roc}')\n",
    "print(f'Модель случайного леса для классификации имеет следующие гиперпараметры: leaf_nodes = {best_leaf_nodes}, max_depth = {best_depth}, features = {best_features}, est =  {best_est}')\n",
    "print(f'Значение F1 меры для этой модели -> {best_score_forest_up}')"
   ]
  },
  {
   "cell_type": "markdown",
   "metadata": {},
   "source": [
    "**Инициализация модели логистичекой регрессии со взвешиванием классов выборки**"
   ]
  },
  {
   "cell_type": "code",
   "execution_count": 22,
   "metadata": {},
   "outputs": [
    {
     "data": {
      "image/png": "[encoded data removed]",
      "text/plain": [
       "<Figure size 640x480 with 1 Axes>"
      ]
     },
     "metadata": {},
     "output_type": "display_data"
    },
    {
     "name": "stdout",
     "output_type": "stream",
     "text": [
      "Метрика AUC-ROC: 0.7627945824667137\n",
      "Значение F1 меры для этой модели ->: 0.5247706422018348\n"
     ]
    }
   ],
   "source": [
    "# инициализируем модель\n",
    "model_linear = LogisticRegression(\n",
    "    C = 0.01, \n",
    "    solver = 'liblinear', \n",
    "    class_weight = 'balanced'\n",
    ")\n",
    "# обучим модель на тренировочной выборке\n",
    "model_linear.fit(features_train, target_train)\n",
    "# получим предсказание модели на валидационной выборке\n",
    "predictions = model.predict(features_valid)\n",
    "# посчитаем значение rmse на валидационной выборке\n",
    "score = f1_score(target_valid, predictions)\n",
    "probabilities_valid = model_linear.predict_proba(features_valid)\n",
    "probabilities_one_valid = probabilities_valid[:, 1]\n",
    "fpr, tpr, thresholds = roc_curve(target_valid, probabilities_one_valid)\n",
    "plt.figure()\n",
    "plt.plot(fpr, tpr)\n",
    "plt.plot([0, 1], [0, 1], linestyle = '--')\n",
    "plt.xlim([0.0, 1.0])\n",
    "plt.ylim([0.0, 1.0])\n",
    "plt.title('ROC - кривая')\n",
    "plt.show()\n",
    "auc_roc = roc_auc_score(target_valid, probabilities_one_valid)\n",
    "print(f'Метрика AUC-ROC: {auc_roc}')\n",
    "print(f'Значение F1 меры для этой модели ->: {score}')"
   ]
  },
  {
   "cell_type": "markdown",
   "metadata": {},
   "source": [
    "**Вывод: Наилушая модель: модель дерева решений для классификации с балансированными данными. С показателями: Метрика AUC-ROC: 0.8217423411164096. Гиперпараметры модели: entropy, max_depth = 8, min_samples_split = 17\n",
    "Значение F1 меры для этой модели -> 0.604. На это модели необходимо провести тестирование на тестовых данных**"
   ]
  },
  {
   "cell_type": "markdown",
   "metadata": {},
   "source": [
    "## Тестирование модели"
   ]
  },
  {
   "cell_type": "markdown",
   "metadata": {},
   "source": [
    "**После обучения модели на валидационной выборке проверим основные преспективные модели на тестовой выборке**"
   ]
  },
  {
   "cell_type": "code",
   "execution_count": 23,
   "metadata": {},
   "outputs": [
    {
     "data": {
      "image/png": "[encoded data removed]",
      "text/plain": [
       "<Figure size 640x480 with 1 Axes>"
      ]
     },
     "metadata": {},
     "output_type": "display_data"
    },
    {
     "name": "stdout",
     "output_type": "stream",
     "text": [
      "Метрика AUC-ROC: 0.8232908830794062\n",
      "Значение F1 меры для этой модели -> 0.5663716814159292\n"
     ]
    }
   ],
   "source": [
    "model = DecisionTreeClassifier(\n",
    "    criterion = 'entropy', \n",
    "    max_depth = 8,\n",
    "    min_samples_split = 17,\n",
    "    random_state = 12345\n",
    ")\n",
    "model.fit(features_train, target_train)\n",
    "predictions = model.predict(features_test)\n",
    "score = f1_score(target_test, predictions)\n",
    "probabilities_test = best_model_clas_up.predict_proba(features_test)\n",
    "probabilities_one_test = probabilities_test[:, 1]\n",
    "fpr, tpr, thresholds = roc_curve(target_test, probabilities_one_test)\n",
    "plt.figure()\n",
    "plt.plot(fpr, tpr)\n",
    "plt.plot([0, 1], [0, 1], linestyle = '--')\n",
    "plt.xlim([0.0, 1.0])\n",
    "plt.ylim([0.0, 1.0])\n",
    "plt.title('ROC - кривая')\n",
    "plt.show()\n",
    "auc_roc = roc_auc_score(target_test, probabilities_one_test)\n",
    "print(f'Метрика AUC-ROC: {auc_roc}')\n",
    "print(f'Значение F1 меры для этой модели -> {score}')"
   ]
  },
  {
   "cell_type": "code",
   "execution_count": 24,
   "metadata": {},
   "outputs": [
    {
     "data": {
      "image/png": "[encoded data removed]",
      "text/plain": [
       "<Figure size 640x480 with 1 Axes>"
      ]
     },
     "metadata": {},
     "output_type": "display_data"
    },
    {
     "name": "stdout",
     "output_type": "stream",
     "text": [
      "Метрика AUC-ROC: 0.8271571066982957\n",
      "Значение F1 меры для этой модели -> 0.5938430983118174\n"
     ]
    }
   ],
   "source": [
    "model = DecisionTreeClassifier(\n",
    "    criterion = 'entropy', \n",
    "    max_depth = 8,\n",
    "    min_samples_split = 21,\n",
    "    class_weight = 'balanced', \n",
    "    random_state = 12345\n",
    ")\n",
    "model.fit(features_train, target_train)\n",
    "predictions = model.predict(features_test)\n",
    "score = f1_score(target_test, predictions)\n",
    "probabilities_test = best_model_clas.predict_proba(features_test)\n",
    "probabilities_one_test = probabilities_test[:, 1]\n",
    "fpr, tpr, thresholds = roc_curve(target_test, probabilities_one_test)\n",
    "plt.figure()\n",
    "plt.plot(fpr, tpr)\n",
    "plt.plot([0, 1], [0, 1], linestyle = '--')\n",
    "plt.xlim([0.0, 1.0])\n",
    "plt.ylim([0.0, 1.0])\n",
    "plt.title('ROC - кривая')\n",
    "plt.show()\n",
    "auc_roc = roc_auc_score(target_test, probabilities_one_test)\n",
    "print(f'Метрика AUC-ROC: {auc_roc}')\n",
    "print(f'Значение F1 меры для этой модели -> {score}')"
   ]
  },
  {
   "cell_type": "markdown",
   "metadata": {},
   "source": [
    "Для модели дерева решений для классификации со взвешиванием классов выборки удалось достичь значения F1 меры больше 0.59"
   ]
  },
  {
   "attachments": {
    "image-2.png": {
     "image/png": "[encoded data removed]"
    },
    "image.png": {
     "image/png": "[encoded data removed]"
    }
   },
   "cell_type": "markdown",
   "metadata": {},
   "source": [
    "# Итоговый вывод: \n",
    "Перед тем, как разделять выборку на обучающую, валидационную и тестовую, была проведена предварительная подготовка датасета:\n",
    "\n",
    "1) заполнены пропуски в данных\n",
    "\n",
    "2) удалены категориальные столбцы, так как они никак не влияют на качество обучения \n",
    "\n",
    "3) категориальные признаки были преобразованы в бинарные \n",
    "\n",
    "4) к количественным признакам было применено масштабирование, чтобы при обучении не получилось так, что какой-то признак с более высоким значением был засчитан как более значимый\n",
    "\n",
    "5) Проверка датасета на наличие дисбаланса показала, что в целевом признаке наблюдается достаточно сильный дисбаланс классов - только 20% отражают факт ухода клиента:\n",
    "\n",
    "![image.png](attachment:image.png)\n",
    "\n",
    "6) была проведена борьба с дизбалансом с помощью 2 методов\n",
    "\n",
    "7) В результате борьбы с дисбанансом классов были получены следующие выводы:\n",
    "\n",
    "    1) Уменьшение и увеличение выборки позволяют достичь примерно одинаковое значение F1-score.\n",
    "    \n",
    "    2) Наибольшее значение метрики F1-score получено на модели  дерева решений для классификации со взвешиванием классов выборки. Поэтому для финального тестирования была использована именно она.\n",
    "    3) Значение метрики AUC-ROC всегда стабильно выше F1-score и колеблется в районе 80%.\n",
    "    \n",
    "8) наилучшая модель была протестирована на тестовой выборке. Значения ключевых метрик получились следующие:\n",
    "\n",
    "![image-2.png](attachment:image-2.png)\n",
    "\n",
    "    1) F1-score = 0.60 (выше необходимого значения)\n",
    "    \n",
    "    2)AUC-ROC = 0.83 (достаточно близко к единице)"
   ]
  }
 ],
 "metadata": {
  "ExecuteTimeLog": [
   {
    "duration": 373,
    "start_time": "2023-04-30T16:33:03.516Z"
   },
   {
    "duration": 1832,
    "start_time": "2023-04-30T16:33:18.043Z"
   },
   {
    "duration": 89,
    "start_time": "2023-04-30T16:34:43.828Z"
   },
   {
    "duration": 54,
    "start_time": "2023-04-30T16:36:20.832Z"
   },
   {
    "duration": 2,
    "start_time": "2023-04-30T16:38:35.547Z"
   },
   {
    "duration": 11,
    "start_time": "2023-04-30T16:38:40.676Z"
   },
   {
    "duration": 511,
    "start_time": "2023-04-30T16:39:38.420Z"
   },
   {
    "duration": 5,
    "start_time": "2023-04-30T16:41:53.025Z"
   },
   {
    "duration": 84,
    "start_time": "2023-04-30T16:42:39.937Z"
   },
   {
    "duration": 6,
    "start_time": "2023-04-30T16:42:52.278Z"
   },
   {
    "duration": 16,
    "start_time": "2023-04-30T16:43:04.421Z"
   },
   {
    "duration": 7,
    "start_time": "2023-04-30T16:43:11.941Z"
   },
   {
    "duration": 4,
    "start_time": "2023-04-30T16:43:24.878Z"
   },
   {
    "duration": 5,
    "start_time": "2023-04-30T16:51:59.014Z"
   },
   {
    "duration": 16,
    "start_time": "2023-04-30T16:53:24.803Z"
   },
   {
    "duration": 11,
    "start_time": "2023-04-30T16:53:58.115Z"
   },
   {
    "duration": 4,
    "start_time": "2023-04-30T16:58:14.924Z"
   },
   {
    "duration": 12,
    "start_time": "2023-04-30T16:58:27.025Z"
   },
   {
    "duration": 4,
    "start_time": "2023-04-30T17:03:47.152Z"
   },
   {
    "duration": 20,
    "start_time": "2023-04-30T17:03:55.736Z"
   },
   {
    "duration": 68,
    "start_time": "2023-04-30T17:07:10.609Z"
   },
   {
    "duration": 5,
    "start_time": "2023-04-30T17:11:11.793Z"
   },
   {
    "duration": 12,
    "start_time": "2023-04-30T17:11:19.851Z"
   },
   {
    "duration": 76,
    "start_time": "2023-04-30T17:15:19.873Z"
   },
   {
    "duration": 66,
    "start_time": "2023-04-30T17:28:32.291Z"
   },
   {
    "duration": 691,
    "start_time": "2023-04-30T17:28:43.486Z"
   },
   {
    "duration": 637,
    "start_time": "2023-04-30T17:28:46.535Z"
   },
   {
    "duration": 1044,
    "start_time": "2023-04-30T17:29:07.434Z"
   },
   {
    "duration": 2,
    "start_time": "2023-04-30T17:47:45.017Z"
   },
   {
    "duration": 7,
    "start_time": "2023-04-30T17:48:53.214Z"
   },
   {
    "duration": 7,
    "start_time": "2023-04-30T17:48:56.852Z"
   },
   {
    "duration": 189,
    "start_time": "2023-04-30T17:51:30.758Z"
   },
   {
    "duration": 4,
    "start_time": "2023-04-30T17:51:58.000Z"
   },
   {
    "duration": 203,
    "start_time": "2023-04-30T17:52:15.591Z"
   },
   {
    "duration": 137,
    "start_time": "2023-04-30T17:52:31.714Z"
   },
   {
    "duration": 140,
    "start_time": "2023-04-30T17:52:35.698Z"
   },
   {
    "duration": 130,
    "start_time": "2023-04-30T17:53:45.262Z"
   },
   {
    "duration": 117,
    "start_time": "2023-04-30T17:54:31.138Z"
   },
   {
    "duration": 141,
    "start_time": "2023-04-30T17:55:29.622Z"
   },
   {
    "duration": 152,
    "start_time": "2023-04-30T17:55:36.641Z"
   },
   {
    "duration": 78,
    "start_time": "2023-04-30T17:55:51.754Z"
   },
   {
    "duration": 149,
    "start_time": "2023-04-30T17:55:56.366Z"
   },
   {
    "duration": 246,
    "start_time": "2023-04-30T17:56:06.218Z"
   },
   {
    "duration": 122,
    "start_time": "2023-04-30T17:56:26.949Z"
   },
   {
    "duration": 120,
    "start_time": "2023-04-30T17:56:47.193Z"
   },
   {
    "duration": 117,
    "start_time": "2023-04-30T18:01:31.442Z"
   },
   {
    "duration": 10,
    "start_time": "2023-04-30T18:02:29.292Z"
   },
   {
    "duration": 6,
    "start_time": "2023-04-30T18:05:34.902Z"
   },
   {
    "duration": 802,
    "start_time": "2023-04-30T18:07:05.724Z"
   },
   {
    "duration": 55,
    "start_time": "2023-05-01T11:59:36.681Z"
   },
   {
    "duration": 1518,
    "start_time": "2023-05-01T11:59:40.842Z"
   },
   {
    "duration": 199,
    "start_time": "2023-05-01T11:59:42.362Z"
   },
   {
    "duration": 12,
    "start_time": "2023-05-01T11:59:42.562Z"
   },
   {
    "duration": 1313,
    "start_time": "2023-05-01T11:59:42.749Z"
   },
   {
    "duration": 233,
    "start_time": "2023-05-01T11:59:45.640Z"
   },
   {
    "duration": 5,
    "start_time": "2023-05-01T11:59:46.087Z"
   },
   {
    "duration": 6,
    "start_time": "2023-05-01T11:59:46.544Z"
   },
   {
    "duration": 140,
    "start_time": "2023-05-01T11:59:48.507Z"
   },
   {
    "duration": 10,
    "start_time": "2023-05-01T11:59:51.222Z"
   },
   {
    "duration": 40,
    "start_time": "2023-05-01T12:17:49.857Z"
   },
   {
    "duration": 3,
    "start_time": "2023-05-01T12:23:01.984Z"
   },
   {
    "duration": 62,
    "start_time": "2023-05-01T12:25:32.257Z"
   },
   {
    "duration": 12,
    "start_time": "2023-05-01T12:25:42.810Z"
   },
   {
    "duration": 53,
    "start_time": "2023-05-01T12:34:55.412Z"
   },
   {
    "duration": 100,
    "start_time": "2023-05-01T12:35:01.761Z"
   },
   {
    "duration": 84,
    "start_time": "2023-05-01T12:35:08.415Z"
   },
   {
    "duration": 15,
    "start_time": "2023-05-01T12:35:27.231Z"
   },
   {
    "duration": 35,
    "start_time": "2023-05-01T12:35:34.745Z"
   },
   {
    "duration": 14,
    "start_time": "2023-05-01T12:39:53.393Z"
   },
   {
    "duration": 3,
    "start_time": "2023-05-01T12:43:21.737Z"
   },
   {
    "duration": 70,
    "start_time": "2023-05-01T12:45:25.243Z"
   },
   {
    "duration": 15,
    "start_time": "2023-05-01T12:45:34.311Z"
   },
   {
    "duration": 22,
    "start_time": "2023-05-01T12:45:44.939Z"
   },
   {
    "duration": 21,
    "start_time": "2023-05-01T12:51:15.005Z"
   },
   {
    "duration": 12,
    "start_time": "2023-05-01T12:51:51.212Z"
   },
   {
    "duration": 57,
    "start_time": "2023-05-01T12:51:59.308Z"
   },
   {
    "duration": 33,
    "start_time": "2023-05-01T12:52:00.726Z"
   },
   {
    "duration": 22,
    "start_time": "2023-05-01T12:52:05.505Z"
   },
   {
    "duration": 22,
    "start_time": "2023-05-01T12:52:54.749Z"
   },
   {
    "duration": 11,
    "start_time": "2023-05-01T12:53:29.224Z"
   },
   {
    "duration": 65,
    "start_time": "2023-05-01T12:53:32.013Z"
   },
   {
    "duration": 22,
    "start_time": "2023-05-01T12:53:33.143Z"
   },
   {
    "duration": 10,
    "start_time": "2023-05-01T12:59:19.518Z"
   },
   {
    "duration": 2,
    "start_time": "2023-05-01T12:59:38.727Z"
   },
   {
    "duration": 237,
    "start_time": "2023-05-01T13:01:58.892Z"
   },
   {
    "duration": 286,
    "start_time": "2023-05-01T13:02:23.745Z"
   },
   {
    "duration": 114,
    "start_time": "2023-05-01T13:02:56.447Z"
   },
   {
    "duration": 24,
    "start_time": "2023-05-01T13:03:05.148Z"
   },
   {
    "duration": 17,
    "start_time": "2023-05-01T13:04:41.406Z"
   },
   {
    "duration": 4,
    "start_time": "2023-05-01T13:04:53.307Z"
   },
   {
    "duration": 52,
    "start_time": "2023-05-01T13:04:53.604Z"
   },
   {
    "duration": 16,
    "start_time": "2023-05-01T13:04:53.891Z"
   },
   {
    "duration": 1448,
    "start_time": "2023-05-01T13:04:54.158Z"
   },
   {
    "duration": 134,
    "start_time": "2023-05-01T13:04:55.608Z"
   },
   {
    "duration": 5,
    "start_time": "2023-05-01T13:04:56.414Z"
   },
   {
    "duration": 10,
    "start_time": "2023-05-01T13:04:56.997Z"
   },
   {
    "duration": 140,
    "start_time": "2023-05-01T13:04:59.428Z"
   },
   {
    "duration": 5,
    "start_time": "2023-05-01T13:05:13.452Z"
   },
   {
    "duration": 25,
    "start_time": "2023-05-01T13:05:29.892Z"
   },
   {
    "duration": 12,
    "start_time": "2023-05-01T13:05:38.809Z"
   },
   {
    "duration": 5,
    "start_time": "2023-05-01T13:06:39.188Z"
   },
   {
    "duration": 73,
    "start_time": "2023-05-01T13:06:55.931Z"
   },
   {
    "duration": 11,
    "start_time": "2023-05-01T13:08:59.854Z"
   },
   {
    "duration": 415,
    "start_time": "2023-05-01T13:10:36.009Z"
   },
   {
    "duration": 457,
    "start_time": "2023-05-01T13:10:50.192Z"
   },
   {
    "duration": 64,
    "start_time": "2023-05-01T13:13:55.989Z"
   },
   {
    "duration": 47,
    "start_time": "2023-05-01T13:14:06.235Z"
   },
   {
    "duration": 1933,
    "start_time": "2023-05-01T13:15:43.205Z"
   },
   {
    "duration": 1742,
    "start_time": "2023-05-01T13:34:20.097Z"
   },
   {
    "duration": 23,
    "start_time": "2023-05-01T13:47:24.556Z"
   },
   {
    "duration": 3040,
    "start_time": "2023-05-01T13:48:45.319Z"
   },
   {
    "duration": 11,
    "start_time": "2023-05-01T13:52:59.807Z"
   },
   {
    "duration": 11,
    "start_time": "2023-05-01T13:53:22.904Z"
   },
   {
    "duration": 22,
    "start_time": "2023-05-01T13:53:28.312Z"
   },
   {
    "duration": 185885,
    "start_time": "2023-05-01T13:53:40.102Z"
   },
   {
    "duration": 3,
    "start_time": "2023-05-01T13:56:59.587Z"
   },
   {
    "duration": 42,
    "start_time": "2023-05-01T14:00:54.561Z"
   },
   {
    "duration": 51,
    "start_time": "2023-05-01T14:00:59.415Z"
   },
   {
    "duration": 185320,
    "start_time": "2023-05-01T14:01:04.897Z"
   },
   {
    "duration": 137,
    "start_time": "2023-05-01T14:08:49.922Z"
   },
   {
    "duration": 3,
    "start_time": "2023-05-01T14:14:15.317Z"
   },
   {
    "duration": 50,
    "start_time": "2023-05-01T14:38:25.716Z"
   },
   {
    "duration": 1784,
    "start_time": "2023-05-01T14:49:20.867Z"
   },
   {
    "duration": 1911,
    "start_time": "2023-05-01T14:49:39.443Z"
   },
   {
    "duration": 1946,
    "start_time": "2023-05-01T14:51:20.148Z"
   },
   {
    "duration": 3,
    "start_time": "2023-05-01T14:51:45.113Z"
   },
   {
    "duration": 1991,
    "start_time": "2023-05-01T14:51:52.564Z"
   },
   {
    "duration": 192383,
    "start_time": "2023-05-01T14:53:37.348Z"
   },
   {
    "duration": 440,
    "start_time": "2023-05-01T14:58:48.791Z"
   },
   {
    "duration": 9,
    "start_time": "2023-05-01T15:22:19.387Z"
   },
   {
    "duration": 6,
    "start_time": "2023-05-01T15:22:56.448Z"
   },
   {
    "duration": 25,
    "start_time": "2023-05-01T15:25:12.770Z"
   },
   {
    "duration": 20,
    "start_time": "2023-05-01T15:25:59.179Z"
   },
   {
    "duration": 22,
    "start_time": "2023-05-01T15:27:38.483Z"
   },
   {
    "duration": 4,
    "start_time": "2023-05-01T15:28:22.676Z"
   },
   {
    "duration": 22,
    "start_time": "2023-05-01T15:28:29.343Z"
   },
   {
    "duration": 27,
    "start_time": "2023-05-01T15:28:41.027Z"
   },
   {
    "duration": 25,
    "start_time": "2023-05-01T15:29:01.077Z"
   },
   {
    "duration": 31,
    "start_time": "2023-05-01T15:33:16.061Z"
   },
   {
    "duration": 23,
    "start_time": "2023-05-01T15:33:48.552Z"
   },
   {
    "duration": 23,
    "start_time": "2023-05-01T15:34:53.627Z"
   },
   {
    "duration": 706,
    "start_time": "2023-05-01T15:34:59.517Z"
   },
   {
    "duration": 31,
    "start_time": "2023-05-01T15:35:17.914Z"
   },
   {
    "duration": 27,
    "start_time": "2023-05-01T15:35:33.925Z"
   },
   {
    "duration": 4,
    "start_time": "2023-05-01T16:08:15.622Z"
   },
   {
    "duration": 43,
    "start_time": "2023-05-01T16:08:16.145Z"
   },
   {
    "duration": 14,
    "start_time": "2023-05-01T16:08:16.588Z"
   },
   {
    "duration": 1273,
    "start_time": "2023-05-01T16:08:17.031Z"
   },
   {
    "duration": 156,
    "start_time": "2023-05-01T16:08:18.306Z"
   },
   {
    "duration": 5,
    "start_time": "2023-05-01T16:08:18.464Z"
   },
   {
    "duration": 6,
    "start_time": "2023-05-01T16:08:18.810Z"
   },
   {
    "duration": 144,
    "start_time": "2023-05-01T16:08:20.080Z"
   },
   {
    "duration": 5,
    "start_time": "2023-05-01T16:08:20.750Z"
   },
   {
    "duration": 20,
    "start_time": "2023-05-01T16:08:20.995Z"
   },
   {
    "duration": 1907,
    "start_time": "2023-05-01T16:14:28.468Z"
   },
   {
    "duration": 184926,
    "start_time": "2023-05-01T16:14:33.587Z"
   },
   {
    "duration": 313,
    "start_time": "2023-05-01T16:21:55.862Z"
   },
   {
    "duration": 21,
    "start_time": "2023-05-01T16:22:05.712Z"
   },
   {
    "duration": 3,
    "start_time": "2023-05-01T16:29:16.412Z"
   },
   {
    "duration": 14,
    "start_time": "2023-05-01T16:29:22.983Z"
   },
   {
    "duration": 15,
    "start_time": "2023-05-01T16:32:38.957Z"
   },
   {
    "duration": 145,
    "start_time": "2023-05-01T16:33:06.292Z"
   },
   {
    "duration": 137,
    "start_time": "2023-05-01T16:33:26.336Z"
   },
   {
    "duration": 15,
    "start_time": "2023-05-01T16:33:38.917Z"
   },
   {
    "duration": 16,
    "start_time": "2023-05-01T16:33:46.341Z"
   },
   {
    "duration": 20,
    "start_time": "2023-05-01T16:33:57.134Z"
   },
   {
    "duration": 19,
    "start_time": "2023-05-01T16:34:55.820Z"
   },
   {
    "duration": 14,
    "start_time": "2023-05-01T16:35:09.536Z"
   },
   {
    "duration": 19,
    "start_time": "2023-05-01T16:35:19.161Z"
   },
   {
    "duration": 11,
    "start_time": "2023-05-01T16:35:55.240Z"
   },
   {
    "duration": 3,
    "start_time": "2023-05-01T16:36:11.812Z"
   },
   {
    "duration": 21,
    "start_time": "2023-05-01T16:36:17.121Z"
   },
   {
    "duration": 135,
    "start_time": "2023-05-01T16:36:30.234Z"
   },
   {
    "duration": 10,
    "start_time": "2023-05-01T16:36:48.618Z"
   },
   {
    "duration": 4,
    "start_time": "2023-05-01T16:36:59.940Z"
   },
   {
    "duration": 16,
    "start_time": "2023-05-01T16:37:07.312Z"
   },
   {
    "duration": 27,
    "start_time": "2023-05-01T16:38:54.113Z"
   },
   {
    "duration": 181,
    "start_time": "2023-05-01T16:39:43.211Z"
   },
   {
    "duration": 171,
    "start_time": "2023-05-01T16:40:08.034Z"
   },
   {
    "duration": 33,
    "start_time": "2023-05-01T16:40:39.148Z"
   },
   {
    "duration": 37,
    "start_time": "2023-05-01T16:40:50.555Z"
   },
   {
    "duration": 29,
    "start_time": "2023-05-01T16:40:56.299Z"
   },
   {
    "duration": 26,
    "start_time": "2023-05-01T16:40:58.880Z"
   },
   {
    "duration": 4,
    "start_time": "2023-05-01T16:42:24.273Z"
   },
   {
    "duration": 49,
    "start_time": "2023-05-01T16:45:18.181Z"
   },
   {
    "duration": 13,
    "start_time": "2023-05-01T16:45:34.023Z"
   },
   {
    "duration": 25,
    "start_time": "2023-05-01T16:46:09.224Z"
   },
   {
    "duration": 138,
    "start_time": "2023-05-01T16:46:29.117Z"
   },
   {
    "duration": 2302,
    "start_time": "2023-05-01T16:48:18.952Z"
   },
   {
    "duration": 2375,
    "start_time": "2023-05-01T16:51:40.167Z"
   },
   {
    "duration": 157,
    "start_time": "2023-05-01T19:04:46.635Z"
   },
   {
    "duration": 2416,
    "start_time": "2023-05-01T19:04:50.168Z"
   },
   {
    "duration": 48,
    "start_time": "2023-05-01T19:05:39.987Z"
   },
   {
    "duration": 2510,
    "start_time": "2023-05-01T19:07:29.819Z"
   },
   {
    "duration": 254343,
    "start_time": "2023-05-01T19:10:33.115Z"
   },
   {
    "duration": 338,
    "start_time": "2023-05-01T19:15:20.231Z"
   },
   {
    "duration": 49,
    "start_time": "2023-05-01T19:17:29.322Z"
   },
   {
    "duration": 2563,
    "start_time": "2023-05-01T19:18:17.812Z"
   },
   {
    "duration": 58,
    "start_time": "2023-05-01T19:20:59.363Z"
   },
   {
    "duration": 262795,
    "start_time": "2023-05-01T19:21:39.207Z"
   },
   {
    "duration": 351,
    "start_time": "2023-05-01T19:26:12.727Z"
   },
   {
    "duration": 154,
    "start_time": "2023-05-01T19:30:48.428Z"
   },
   {
    "duration": 6551,
    "start_time": "2023-05-01T20:27:49.302Z"
   },
   {
    "duration": 170,
    "start_time": "2023-05-01T20:27:55.855Z"
   },
   {
    "duration": 13,
    "start_time": "2023-05-01T20:27:56.026Z"
   },
   {
    "duration": 1119,
    "start_time": "2023-05-01T20:27:56.041Z"
   },
   {
    "duration": 121,
    "start_time": "2023-05-01T20:27:57.162Z"
   },
   {
    "duration": 4,
    "start_time": "2023-05-01T20:27:57.284Z"
   },
   {
    "duration": 5,
    "start_time": "2023-05-01T20:27:57.290Z"
   },
   {
    "duration": 128,
    "start_time": "2023-05-01T20:27:57.297Z"
   },
   {
    "duration": 4,
    "start_time": "2023-05-01T20:27:57.427Z"
   },
   {
    "duration": 18,
    "start_time": "2023-05-01T20:27:57.432Z"
   },
   {
    "duration": 1787,
    "start_time": "2023-05-01T20:27:57.452Z"
   },
   {
    "duration": 95,
    "start_time": "2023-05-01T20:28:29.295Z"
   },
   {
    "duration": 93,
    "start_time": "2023-05-01T20:28:38.380Z"
   },
   {
    "duration": 52,
    "start_time": "2023-05-01T20:44:31.805Z"
   },
   {
    "duration": 1816,
    "start_time": "2023-05-03T12:28:02.011Z"
   },
   {
    "duration": 383,
    "start_time": "2023-05-03T12:28:03.829Z"
   },
   {
    "duration": 11,
    "start_time": "2023-05-03T12:28:05.712Z"
   },
   {
    "duration": 1155,
    "start_time": "2023-05-03T12:28:07.615Z"
   },
   {
    "duration": 131,
    "start_time": "2023-05-03T12:28:11.001Z"
   },
   {
    "duration": 4,
    "start_time": "2023-05-03T12:28:11.312Z"
   },
   {
    "duration": 5,
    "start_time": "2023-05-03T12:28:11.612Z"
   },
   {
    "duration": 124,
    "start_time": "2023-05-03T12:28:14.915Z"
   },
   {
    "duration": 4,
    "start_time": "2023-05-03T12:28:16.004Z"
   },
   {
    "duration": 18,
    "start_time": "2023-05-03T12:28:17.846Z"
   },
   {
    "duration": 2064,
    "start_time": "2023-05-03T12:29:04.409Z"
   },
   {
    "duration": 189527,
    "start_time": "2023-05-03T12:29:30.398Z"
   },
   {
    "duration": 290,
    "start_time": "2023-05-03T12:32:52.193Z"
   },
   {
    "duration": 118,
    "start_time": "2023-05-03T12:32:59.540Z"
   },
   {
    "duration": 2623,
    "start_time": "2023-05-03T12:33:16.211Z"
   },
   {
    "duration": 267929,
    "start_time": "2023-05-03T12:33:45.356Z"
   },
   {
    "duration": 337,
    "start_time": "2023-05-03T12:38:27.186Z"
   },
   {
    "duration": 2111,
    "start_time": "2023-05-03T12:39:05.199Z"
   },
   {
    "duration": 2166,
    "start_time": "2023-05-03T12:39:17.253Z"
   },
   {
    "duration": 202221,
    "start_time": "2023-05-03T12:39:48.729Z"
   },
   {
    "duration": 205557,
    "start_time": "2023-05-03T12:43:41.826Z"
   },
   {
    "duration": 322,
    "start_time": "2023-05-03T12:48:04.492Z"
   },
   {
    "duration": 260,
    "start_time": "2023-05-03T12:48:19.966Z"
   },
   {
    "duration": 135,
    "start_time": "2023-05-03T12:48:32.497Z"
   },
   {
    "duration": 133,
    "start_time": "2023-05-03T12:48:59.801Z"
   },
   {
    "duration": 148,
    "start_time": "2023-05-03T12:55:19.769Z"
   },
   {
    "duration": 116,
    "start_time": "2023-05-03T12:55:26.799Z"
   },
   {
    "duration": 131,
    "start_time": "2023-05-03T13:01:28.901Z"
   },
   {
    "duration": 132,
    "start_time": "2023-05-03T13:08:06.229Z"
   },
   {
    "duration": 140,
    "start_time": "2023-05-03T13:08:10.825Z"
   },
   {
    "duration": 127,
    "start_time": "2023-05-03T13:08:15.157Z"
   },
   {
    "duration": 221,
    "start_time": "2023-05-03T13:08:19.743Z"
   },
   {
    "duration": 156,
    "start_time": "2023-05-03T13:08:24.500Z"
   },
   {
    "duration": 134,
    "start_time": "2023-05-03T13:08:27.716Z"
   },
   {
    "duration": 148,
    "start_time": "2023-05-03T13:08:30.850Z"
   },
   {
    "duration": 128,
    "start_time": "2023-05-03T13:08:34.112Z"
   },
   {
    "duration": 131,
    "start_time": "2023-05-03T13:08:38.897Z"
   },
   {
    "duration": 132,
    "start_time": "2023-05-03T13:08:43.495Z"
   },
   {
    "duration": 136,
    "start_time": "2023-05-03T13:08:47.397Z"
   },
   {
    "duration": 109,
    "start_time": "2023-05-03T13:08:53.817Z"
   },
   {
    "duration": 129,
    "start_time": "2023-05-03T13:08:58.534Z"
   },
   {
    "duration": 124,
    "start_time": "2023-05-03T13:09:01.100Z"
   },
   {
    "duration": 126,
    "start_time": "2023-05-03T13:09:06.151Z"
   },
   {
    "duration": 140,
    "start_time": "2023-05-03T13:09:17.000Z"
   },
   {
    "duration": 22694,
    "start_time": "2023-05-03T13:11:10.221Z"
   },
   {
    "duration": 129,
    "start_time": "2023-05-03T13:13:01.689Z"
   },
   {
    "duration": 138,
    "start_time": "2023-05-03T13:13:36.447Z"
   },
   {
    "duration": 139,
    "start_time": "2023-05-03T13:13:58.702Z"
   },
   {
    "duration": 140,
    "start_time": "2023-05-03T13:14:04.282Z"
   },
   {
    "duration": 140,
    "start_time": "2023-05-03T13:14:07.630Z"
   },
   {
    "duration": 138,
    "start_time": "2023-05-03T13:14:10.636Z"
   },
   {
    "duration": 135,
    "start_time": "2023-05-03T13:14:17.150Z"
   },
   {
    "duration": 136,
    "start_time": "2023-05-03T13:14:20.492Z"
   },
   {
    "duration": 134,
    "start_time": "2023-05-03T13:14:26.029Z"
   },
   {
    "duration": 131,
    "start_time": "2023-05-03T13:14:33.300Z"
   },
   {
    "duration": 130,
    "start_time": "2023-05-03T13:14:36.528Z"
   },
   {
    "duration": 134,
    "start_time": "2023-05-03T13:14:43.200Z"
   },
   {
    "duration": 8874,
    "start_time": "2023-05-03T14:17:45.947Z"
   },
   {
    "duration": 148,
    "start_time": "2023-05-03T14:19:04.321Z"
   },
   {
    "duration": 135,
    "start_time": "2023-05-03T14:26:20.974Z"
   },
   {
    "duration": 140,
    "start_time": "2023-05-03T14:27:39.218Z"
   },
   {
    "duration": 141,
    "start_time": "2023-05-03T14:27:43.967Z"
   },
   {
    "duration": 138,
    "start_time": "2023-05-03T14:27:48.577Z"
   },
   {
    "duration": 144,
    "start_time": "2023-05-03T14:27:52.273Z"
   },
   {
    "duration": 17811,
    "start_time": "2023-05-03T14:28:19.144Z"
   },
   {
    "duration": 132,
    "start_time": "2023-05-03T14:28:56.488Z"
   },
   {
    "duration": 11,
    "start_time": "2023-05-03T14:36:27.279Z"
   },
   {
    "duration": 7,
    "start_time": "2023-05-03T14:36:38.374Z"
   },
   {
    "duration": 13,
    "start_time": "2023-05-03T14:39:34.325Z"
   },
   {
    "duration": 2218,
    "start_time": "2023-05-03T14:39:38.710Z"
   },
   {
    "duration": 202056,
    "start_time": "2023-05-03T14:39:47.981Z"
   },
   {
    "duration": 2,
    "start_time": "2023-05-03T14:46:02.119Z"
   },
   {
    "duration": 90260,
    "start_time": "2023-05-03T14:46:04.618Z"
   },
   {
    "duration": 0,
    "start_time": "2023-05-03T14:47:34.879Z"
   },
   {
    "duration": 0,
    "start_time": "2023-05-03T14:47:34.881Z"
   },
   {
    "duration": 19,
    "start_time": "2023-05-03T14:47:39.065Z"
   },
   {
    "duration": 2147,
    "start_time": "2023-05-03T14:47:41.645Z"
   },
   {
    "duration": 3,
    "start_time": "2023-05-03T14:48:01.418Z"
   },
   {
    "duration": 119596,
    "start_time": "2023-05-03T14:48:02.167Z"
   },
   {
    "duration": 20,
    "start_time": "2023-05-03T14:50:35.969Z"
   },
   {
    "duration": 2107,
    "start_time": "2023-05-03T14:50:37.011Z"
   },
   {
    "duration": 276,
    "start_time": "2023-05-03T14:50:56.957Z"
   },
   {
    "duration": 9120,
    "start_time": "2023-05-03T14:51:07.283Z"
   },
   {
    "duration": 3,
    "start_time": "2023-05-03T14:51:50.102Z"
   },
   {
    "duration": 49,
    "start_time": "2023-05-03T14:51:50.953Z"
   },
   {
    "duration": 11,
    "start_time": "2023-05-03T14:51:51.257Z"
   },
   {
    "duration": 1165,
    "start_time": "2023-05-03T14:51:51.565Z"
   },
   {
    "duration": 120,
    "start_time": "2023-05-03T14:51:52.813Z"
   },
   {
    "duration": 6,
    "start_time": "2023-05-03T14:51:54.081Z"
   },
   {
    "duration": 5,
    "start_time": "2023-05-03T14:51:54.812Z"
   },
   {
    "duration": 117,
    "start_time": "2023-05-03T14:51:58.137Z"
   },
   {
    "duration": 4,
    "start_time": "2023-05-03T14:52:01.669Z"
   },
   {
    "duration": 116,
    "start_time": "2023-05-03T14:52:02.818Z"
   },
   {
    "duration": 27,
    "start_time": "2023-05-03T14:52:09.517Z"
   },
   {
    "duration": 2175,
    "start_time": "2023-05-03T14:52:19.159Z"
   },
   {
    "duration": 3,
    "start_time": "2023-05-03T14:52:26.481Z"
   },
   {
    "duration": 115406,
    "start_time": "2023-05-03T14:52:27.997Z"
   },
   {
    "duration": 0,
    "start_time": "2023-05-03T14:54:23.405Z"
   },
   {
    "duration": 43,
    "start_time": "2023-05-03T14:54:24.611Z"
   },
   {
    "duration": 191,
    "start_time": "2023-05-03T14:54:32.157Z"
   },
   {
    "duration": 15,
    "start_time": "2023-05-03T15:07:20.500Z"
   },
   {
    "duration": 4,
    "start_time": "2023-05-03T15:08:17.361Z"
   },
   {
    "duration": 4,
    "start_time": "2023-05-03T15:08:22.179Z"
   },
   {
    "duration": 10,
    "start_time": "2023-05-03T15:08:34.061Z"
   },
   {
    "duration": 15,
    "start_time": "2023-05-03T15:08:49.705Z"
   },
   {
    "duration": 120,
    "start_time": "2023-05-03T15:09:27.679Z"
   },
   {
    "duration": 564,
    "start_time": "2023-05-03T15:09:31.046Z"
   },
   {
    "duration": 375,
    "start_time": "2023-05-03T15:09:40.773Z"
   },
   {
    "duration": 240,
    "start_time": "2023-05-03T15:09:51.857Z"
   },
   {
    "duration": 203,
    "start_time": "2023-05-03T15:10:07.112Z"
   },
   {
    "duration": 387,
    "start_time": "2023-05-03T15:10:40.712Z"
   },
   {
    "duration": 285,
    "start_time": "2023-05-03T15:10:50.678Z"
   },
   {
    "duration": 15,
    "start_time": "2023-05-03T15:11:07.494Z"
   },
   {
    "duration": 313,
    "start_time": "2023-05-03T15:11:20.897Z"
   },
   {
    "duration": 291,
    "start_time": "2023-05-03T15:11:27.498Z"
   },
   {
    "duration": 120,
    "start_time": "2023-05-03T15:12:04.988Z"
   },
   {
    "duration": 35,
    "start_time": "2023-05-03T15:12:07.674Z"
   },
   {
    "duration": 2137,
    "start_time": "2023-05-03T15:12:12.397Z"
   },
   {
    "duration": 3,
    "start_time": "2023-05-03T15:12:16.773Z"
   },
   {
    "duration": 193878,
    "start_time": "2023-05-03T15:12:17.854Z"
   },
   {
    "duration": 274,
    "start_time": "2023-05-03T15:30:13.258Z"
   },
   {
    "duration": 117,
    "start_time": "2023-05-03T15:30:20.792Z"
   },
   {
    "duration": 9172,
    "start_time": "2023-05-03T15:30:25.550Z"
   },
   {
    "duration": 270395,
    "start_time": "2023-05-03T15:30:41.654Z"
   },
   {
    "duration": 338,
    "start_time": "2023-05-03T15:35:37.053Z"
   },
   {
    "duration": 17793,
    "start_time": "2023-05-03T15:35:57.660Z"
   },
   {
    "duration": 206282,
    "start_time": "2023-05-03T15:36:20.246Z"
   },
   {
    "duration": 301,
    "start_time": "2023-05-03T15:39:46.529Z"
   },
   {
    "duration": 260,
    "start_time": "2023-05-03T15:40:49.064Z"
   },
   {
    "duration": 136,
    "start_time": "2023-05-03T15:40:59.017Z"
   },
   {
    "duration": 9234,
    "start_time": "2023-05-03T15:41:03.521Z"
   },
   {
    "duration": 270675,
    "start_time": "2023-05-03T15:41:18.098Z"
   },
   {
    "duration": 287,
    "start_time": "2023-05-03T15:46:05.262Z"
   },
   {
    "duration": 16742,
    "start_time": "2023-05-03T15:46:10.766Z"
   },
   {
    "duration": 204942,
    "start_time": "2023-05-03T15:47:17.480Z"
   },
   {
    "duration": 289,
    "start_time": "2023-05-03T15:51:32.580Z"
   },
   {
    "duration": 207,
    "start_time": "2023-05-03T15:51:43.473Z"
   },
   {
    "duration": 128,
    "start_time": "2023-05-03T15:51:47.180Z"
   },
   {
    "duration": 136,
    "start_time": "2023-05-03T15:54:27.886Z"
   },
   {
    "duration": 52,
    "start_time": "2023-05-03T15:58:00.576Z"
   },
   {
    "duration": 144,
    "start_time": "2023-05-03T15:58:09.090Z"
   },
   {
    "duration": 136,
    "start_time": "2023-05-03T15:58:44.353Z"
   },
   {
    "duration": 3,
    "start_time": "2023-05-03T15:59:47.052Z"
   },
   {
    "duration": 6978,
    "start_time": "2023-05-03T16:00:44.622Z"
   },
   {
    "duration": 6979,
    "start_time": "2023-05-03T16:00:57.174Z"
   },
   {
    "duration": 138,
    "start_time": "2023-05-03T16:01:31.192Z"
   },
   {
    "duration": 102,
    "start_time": "2023-05-04T09:02:06.611Z"
   },
   {
    "duration": 1941,
    "start_time": "2023-05-04T09:02:10.406Z"
   },
   {
    "duration": 118,
    "start_time": "2023-05-04T09:06:24.874Z"
   },
   {
    "duration": 5,
    "start_time": "2023-05-04T09:06:46.625Z"
   },
   {
    "duration": 194,
    "start_time": "2023-05-04T09:06:47.119Z"
   },
   {
    "duration": 14,
    "start_time": "2023-05-04T09:06:47.433Z"
   },
   {
    "duration": 1498,
    "start_time": "2023-05-04T09:06:47.760Z"
   },
   {
    "duration": 161,
    "start_time": "2023-05-04T09:06:49.260Z"
   },
   {
    "duration": 6,
    "start_time": "2023-05-04T09:06:49.423Z"
   },
   {
    "duration": 7,
    "start_time": "2023-05-04T09:06:49.441Z"
   },
   {
    "duration": 193,
    "start_time": "2023-05-04T09:06:55.898Z"
   },
   {
    "duration": 5,
    "start_time": "2023-05-04T09:06:57.815Z"
   },
   {
    "duration": 13,
    "start_time": "2023-05-04T09:06:59.020Z"
   },
   {
    "duration": 21,
    "start_time": "2023-05-04T09:07:30.012Z"
   },
   {
    "duration": 36,
    "start_time": "2023-05-04T09:12:52.434Z"
   },
   {
    "duration": 147,
    "start_time": "2023-05-04T09:16:57.701Z"
   },
   {
    "duration": 42,
    "start_time": "2023-05-04T09:17:14.702Z"
   },
   {
    "duration": 1892,
    "start_time": "2023-05-04T09:17:18.093Z"
   },
   {
    "duration": 4,
    "start_time": "2023-05-04T09:17:23.187Z"
   },
   {
    "duration": 197915,
    "start_time": "2023-05-04T09:17:23.533Z"
   },
   {
    "duration": 277,
    "start_time": "2023-05-04T09:30:41.284Z"
   },
   {
    "duration": 27,
    "start_time": "2023-05-04T09:30:44.695Z"
   },
   {
    "duration": 16,
    "start_time": "2023-05-04T09:31:51.352Z"
   },
   {
    "duration": 22,
    "start_time": "2023-05-04T09:31:57.293Z"
   },
   {
    "duration": 26,
    "start_time": "2023-05-04T09:36:59.991Z"
   },
   {
    "duration": 2513,
    "start_time": "2023-05-04T09:37:04.585Z"
   },
   {
    "duration": 338,
    "start_time": "2023-05-04T09:37:10.947Z"
   },
   {
    "duration": 164,
    "start_time": "2023-05-04T09:37:20.540Z"
   },
   {
    "duration": 43,
    "start_time": "2023-05-04T09:37:51.110Z"
   },
   {
    "duration": 15,
    "start_time": "2023-05-04T09:37:58.130Z"
   },
   {
    "duration": 4,
    "start_time": "2023-05-04T09:38:47.986Z"
   },
   {
    "duration": 5,
    "start_time": "2023-05-04T09:40:01.589Z"
   },
   {
    "duration": 7,
    "start_time": "2023-05-04T09:40:16.542Z"
   },
   {
    "duration": 16,
    "start_time": "2023-05-04T09:41:53.219Z"
   },
   {
    "duration": 17,
    "start_time": "2023-05-04T09:42:02.083Z"
   },
   {
    "duration": 6,
    "start_time": "2023-05-04T09:42:15.020Z"
   },
   {
    "duration": 16,
    "start_time": "2023-05-04T09:42:17.426Z"
   },
   {
    "duration": 18,
    "start_time": "2023-05-04T09:42:43.911Z"
   },
   {
    "duration": 17,
    "start_time": "2023-05-04T09:42:49.600Z"
   },
   {
    "duration": 10,
    "start_time": "2023-05-04T09:43:26.412Z"
   },
   {
    "duration": 10,
    "start_time": "2023-05-04T09:43:40.481Z"
   },
   {
    "duration": 8,
    "start_time": "2023-05-04T09:43:53.090Z"
   },
   {
    "duration": 10,
    "start_time": "2023-05-04T09:44:08.529Z"
   },
   {
    "duration": 9,
    "start_time": "2023-05-04T09:44:17.404Z"
   },
   {
    "duration": 22,
    "start_time": "2023-05-04T09:45:53.789Z"
   },
   {
    "duration": 29,
    "start_time": "2023-05-04T09:46:21.416Z"
   },
   {
    "duration": 11,
    "start_time": "2023-05-04T09:46:27.128Z"
   },
   {
    "duration": 10,
    "start_time": "2023-05-04T09:46:49.210Z"
   },
   {
    "duration": 22,
    "start_time": "2023-05-04T09:46:54.637Z"
   },
   {
    "duration": 22,
    "start_time": "2023-05-04T09:47:11.651Z"
   },
   {
    "duration": 10,
    "start_time": "2023-05-04T09:47:44.890Z"
   },
   {
    "duration": 27,
    "start_time": "2023-05-04T09:51:33.069Z"
   },
   {
    "duration": 11,
    "start_time": "2023-05-04T09:51:46.698Z"
   },
   {
    "duration": 22,
    "start_time": "2023-05-04T09:52:59.574Z"
   },
   {
    "duration": 20,
    "start_time": "2023-05-04T09:53:19.248Z"
   },
   {
    "duration": 10,
    "start_time": "2023-05-04T09:53:48.447Z"
   },
   {
    "duration": 31,
    "start_time": "2023-05-04T09:59:50.263Z"
   },
   {
    "duration": 16,
    "start_time": "2023-05-04T10:01:41.205Z"
   },
   {
    "duration": 158,
    "start_time": "2023-05-04T10:02:05.238Z"
   },
   {
    "duration": 14,
    "start_time": "2023-05-04T10:02:47.091Z"
   },
   {
    "duration": 36,
    "start_time": "2023-05-04T10:02:47.367Z"
   },
   {
    "duration": 1858,
    "start_time": "2023-05-04T10:02:51.265Z"
   },
   {
    "duration": 4,
    "start_time": "2023-05-04T10:02:55.888Z"
   },
   {
    "duration": 205228,
    "start_time": "2023-05-04T10:02:56.732Z"
   },
   {
    "duration": 290,
    "start_time": "2023-05-04T10:07:05.490Z"
   },
   {
    "duration": 163,
    "start_time": "2023-05-04T10:07:09.854Z"
   },
   {
    "duration": 8953,
    "start_time": "2023-05-04T10:07:13.203Z"
   },
   {
    "duration": 300563,
    "start_time": "2023-05-04T10:08:10.565Z"
   },
   {
    "duration": 391,
    "start_time": "2023-05-04T10:13:20.619Z"
   },
   {
    "duration": 15863,
    "start_time": "2023-05-04T10:13:28.497Z"
   },
   {
    "duration": 223735,
    "start_time": "2023-05-04T10:13:52.818Z"
   },
   {
    "duration": 286,
    "start_time": "2023-05-04T10:17:50.001Z"
   },
   {
    "duration": 174,
    "start_time": "2023-05-04T10:17:56.475Z"
   },
   {
    "duration": 278,
    "start_time": "2023-05-04T10:18:00.197Z"
   }
  ],
  "kernelspec": {
   "display_name": "Python 3 (ipykernel)",
   "language": "python",
   "name": "python3"
  },
  "language_info": {
   "codemirror_mode": {
    "name": "ipython",
    "version": 3
   },
   "file_extension": ".py",
   "mimetype": "text/x-python",
   "name": "python",
   "nbconvert_exporter": "python",
   "pygments_lexer": "ipython3",
   "version": "3.10.9"
  },
  "toc": {
   "base_numbering": 1,
   "nav_menu": {},
   "number_sections": true,
   "sideBar": true,
   "skip_h1_title": true,
   "title_cell": "Содержание",
   "title_sidebar": "Contents",
   "toc_cell": true,
   "toc_position": {
    "height": "calc(100% - 180px)",
    "left": "10px",
    "top": "150px",
    "width": "165px"
   },
   "toc_section_display": true,
   "toc_window_display": true
  }
 },
 "nbformat": 4,
 "nbformat_minor": 4
}
